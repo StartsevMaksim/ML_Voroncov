{
 "cells": [
  {
   "cell_type": "code",
   "execution_count": 41,
   "id": "32864cbd-b575-475e-a906-d623344df6f7",
   "metadata": {},
   "outputs": [],
   "source": [
    "import functools\n",
    "import numpy as np\n",
    "import pandas as pd\n",
    "import matplotlib.pyplot as plt\n",
    "import seaborn as sns\n",
    "from collections import deque\n",
    "#from ULogicalModels import UDecisionTreeClassifier\n",
    "#from sklearn.ensemble import RandomForestClassifier\n",
    "from sklearn.metrics import classification_report, ConfusionMatrixDisplay, accuracy_score\n",
    "from sklearn.preprocessing import StandardScaler\n",
    "from sklearn.model_selection import train_test_split"
   ]
  },
  {
   "cell_type": "code",
   "execution_count": 37,
   "id": "513382fc-c121-4a7e-813b-13fd53984d25",
   "metadata": {},
   "outputs": [],
   "source": [
    "def getModelError(model, X_train, X_test, y_train, y_test):\n",
    "    model.fit(X_train, y_train)\n",
    "    y_predict = model.predict(X_test)\n",
    "    return classification_report(y_test, y_predict)\n",
    "    \n",
    "def compareModels(model, uModel, X, y, is_need_scale):\n",
    "    X_train, X_test, y_train, y_test = train_test_split(X, y, test_size=0.3, random_state=101)\n",
    "    if is_need_scale:\n",
    "        scaler = StandardScaler()\n",
    "        scaler.fit(X_train)\n",
    "        X_train = scaler.transform(X_train)\n",
    "        X_test = scaler.transform(X_test)\n",
    "    model_error = getModelError(model, X_train, X_test, y_train, y_test)\n",
    "    uModel_error = getModelError(uModel, X_train, X_test, y_train, y_test)\n",
    "    print('Ошибка на пакетной модели\\n', model_error)\n",
    "    print('Ошибка на реализованной модели\\n', uModel_error)"
   ]
  },
  {
   "cell_type": "code",
   "execution_count": 38,
   "id": "905fa891-75ad-4aba-b052-2ee59e3fbbbb",
   "metadata": {},
   "outputs": [],
   "source": [
    "#Вины\n",
    "data_1 = pd.read_csv('DATA/wine_fraud.csv')\n",
    "X = data_1.drop(['type','quality'], axis=1)\n",
    "y = data_1['type']\n",
    "y = y.map({'red': 1, 'white': -1})"
   ]
  },
  {
   "cell_type": "code",
   "execution_count": 8,
   "id": "f426efd6-622b-4d06-b3f4-2e9b9e687aa1",
   "metadata": {},
   "outputs": [],
   "source": [
    "#Исследование слуха\n",
    "data_1 = pd.read_csv('DATA/hearing_test.csv')\n",
    "X = data_1.drop('test_result', axis=1)\n",
    "y = data_1['test_result']"
   ]
  },
  {
   "cell_type": "code",
   "execution_count": null,
   "id": "20430f89-3e4b-4960-a650-141722887dd9",
   "metadata": {},
   "outputs": [],
   "source": [
    "#Ирисы\n",
    "data_1 = pd.read_csv('DATA/iris.csv')\n",
    "X = data_1.drop('species', axis=1)\n",
    "y = data_1['species']"
   ]
  },
  {
   "cell_type": "code",
   "execution_count": 35,
   "id": "f5fb6a73-d250-4fe6-b44c-901b97393a8e",
   "metadata": {},
   "outputs": [],
   "source": [
    "model = AdaBoostClassifier(n_estimators=10)\n",
    "uModel = UAdaBoost()"
   ]
  },
  {
   "cell_type": "code",
   "execution_count": 39,
   "id": "7db11be4-c49c-47a5-a1e3-34d5068b175f",
   "metadata": {},
   "outputs": [
    {
     "name": "stdout",
     "output_type": "stream",
     "text": [
      "Ошибка на пакетной модели\n",
      "               precision    recall  f1-score   support\n",
      "\n",
      "          -1       0.99      0.99      0.99      1451\n",
      "           1       0.98      0.97      0.97       499\n",
      "\n",
      "    accuracy                           0.99      1950\n",
      "   macro avg       0.98      0.98      0.98      1950\n",
      "weighted avg       0.99      0.99      0.99      1950\n",
      "\n",
      "Ошибка на реализованной модели\n",
      "               precision    recall  f1-score   support\n",
      "\n",
      "          -1       0.99      0.99      0.99      1451\n",
      "           1       0.97      0.98      0.97       499\n",
      "\n",
      "    accuracy                           0.99      1950\n",
      "   macro avg       0.98      0.98      0.98      1950\n",
      "weighted avg       0.99      0.99      0.99      1950\n",
      "\n"
     ]
    },
    {
     "name": "stderr",
     "output_type": "stream",
     "text": [
      "C:\\Users\\SMD\\AppData\\Local\\Programs\\Python\\Python312\\Lib\\site-packages\\sklearn\\ensemble\\_weight_boosting.py:519: FutureWarning: The SAMME.R algorithm (the default) is deprecated and will be removed in 1.6. Use the SAMME algorithm to circumvent this warning.\n",
      "  warnings.warn(\n"
     ]
    }
   ],
   "source": [
    "compareModels(model, uModel, X, y, False)"
   ]
  },
  {
   "cell_type": "code",
   "execution_count": null,
   "id": "fc03298f-ba6e-4909-ab26-a996d8c1fa81",
   "metadata": {},
   "outputs": [],
   "source": []
  }
 ],
 "metadata": {
  "kernelspec": {
   "display_name": "Python 3 (ipykernel)",
   "language": "python",
   "name": "python3"
  },
  "language_info": {
   "codemirror_mode": {
    "name": "ipython",
    "version": 3
   },
   "file_extension": ".py",
   "mimetype": "text/x-python",
   "name": "python",
   "nbconvert_exporter": "python",
   "pygments_lexer": "ipython3",
   "version": "3.12.0"
  }
 },
 "nbformat": 4,
 "nbformat_minor": 5
}
