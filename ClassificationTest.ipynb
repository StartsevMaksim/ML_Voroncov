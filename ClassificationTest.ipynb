{
 "cells": [
  {
   "cell_type": "code",
   "execution_count": 1,
   "id": "32864cbd-b575-475e-a906-d623344df6f7",
   "metadata": {},
   "outputs": [],
   "source": [
    "import numpy as np\n",
    "import pandas as pd\n",
    "from ULinearModels import ULogisticRegression\n",
    "#from sklearn.linear_model import LogisticRegression\n",
    "#from sklearn.neighbors import KNeighborsClassifier\n",
    "from sklearn.metrics import classification_report, ConfusionMatrixDisplay\n",
    "from sklearn.preprocessing import StandardScaler\n",
    "from sklearn.model_selection import train_test_split"
   ]
  },
  {
   "cell_type": "code",
   "execution_count": 54,
   "id": "513382fc-c121-4a7e-813b-13fd53984d25",
   "metadata": {},
   "outputs": [],
   "source": [
    "def getModelError(model, X_train, X_test, y_train, y_test):\n",
    "    model.fit(X_train, y_train)\n",
    "    y_predict = model.predict(X_test)\n",
    "    return classification_report(y_test, y_predict)\n",
    "    \n",
    "def compareModels(model, uModel, X, y):\n",
    "    model_error = getModelError(model, X_train, X_test, y_train, y_test)\n",
    "    uModel_error = getModelError(uModel, X_train, X_test, y_train, y_test)\n",
    "    print('Ошибка на пакетной модели\\n', model_error)\n",
    "    print('Ошибка на реализованной модели\\n', uModel_error)"
   ]
  },
  {
   "cell_type": "code",
   "execution_count": 72,
   "id": "f426efd6-622b-4d06-b3f4-2e9b9e687aa1",
   "metadata": {},
   "outputs": [],
   "source": [
    "data_1 = pd.read_csv('DATA/hearing_test.csv')"
   ]
  },
  {
   "cell_type": "code",
   "execution_count": 73,
   "id": "fd065514-e315-4ab5-8bca-8f1e1975e20a",
   "metadata": {},
   "outputs": [],
   "source": [
    "X = data_1.drop('test_result', axis=1)\n",
    "y = data_1['test_result']"
   ]
  },
  {
   "cell_type": "code",
   "execution_count": 74,
   "id": "a2253665-2442-4cf7-8c9f-c66e92f08f2a",
   "metadata": {},
   "outputs": [],
   "source": [
    "X_train, X_test, y_train, y_test = train_test_split(X, y, test_size=0.3, random_state=101)"
   ]
  },
  {
   "cell_type": "code",
   "execution_count": 75,
   "id": "5ea891eb-f4f3-4d0d-8573-d04bb3e20c3c",
   "metadata": {},
   "outputs": [],
   "source": [
    "scaler = StandardScaler()\n",
    "scaler.fit(X_train)\n",
    "X_train = scaler.transform(X_train)\n",
    "X_test = scaler.transform(X_test)"
   ]
  },
  {
   "cell_type": "code",
   "execution_count": 105,
   "id": "f5fb6a73-d250-4fe6-b44c-901b97393a8e",
   "metadata": {},
   "outputs": [],
   "source": [
    "model = KNeighborsClassifier(n_neighbors=16)\n",
    "uModel = UKNeighborsClassifier(n_neighbors=16, weight_type='parzen_sqr', parzen_step=0.5)"
   ]
  },
  {
   "cell_type": "code",
   "execution_count": 106,
   "id": "7db11be4-c49c-47a5-a1e3-34d5068b175f",
   "metadata": {},
   "outputs": [
    {
     "name": "stdout",
     "output_type": "stream",
     "text": [
      "Ошибка на пакетной модели\n",
      "               precision    recall  f1-score   support\n",
      "\n",
      "           0       0.94      0.88      0.91       597\n",
      "           1       0.93      0.96      0.94       903\n",
      "\n",
      "    accuracy                           0.93      1500\n",
      "   macro avg       0.93      0.92      0.93      1500\n",
      "weighted avg       0.93      0.93      0.93      1500\n",
      "\n",
      "Ошибка на реализованной модели\n",
      "               precision    recall  f1-score   support\n",
      "\n",
      "           0       0.95      0.88      0.92       597\n",
      "           1       0.93      0.97      0.95       903\n",
      "\n",
      "    accuracy                           0.94      1500\n",
      "   macro avg       0.94      0.93      0.93      1500\n",
      "weighted avg       0.94      0.94      0.93      1500\n",
      "\n"
     ]
    }
   ],
   "source": [
    "compareModels(model, uModel, X, y)"
   ]
  },
  {
   "cell_type": "code",
   "execution_count": null,
   "id": "2bac717e-3b0a-47ca-a246-bd3f635febc1",
   "metadata": {},
   "outputs": [],
   "source": []
  }
 ],
 "metadata": {
  "kernelspec": {
   "display_name": "Python 3 (ipykernel)",
   "language": "python",
   "name": "python3"
  },
  "language_info": {
   "codemirror_mode": {
    "name": "ipython",
    "version": 3
   },
   "file_extension": ".py",
   "mimetype": "text/x-python",
   "name": "python",
   "nbconvert_exporter": "python",
   "pygments_lexer": "ipython3",
   "version": "3.12.6"
  }
 },
 "nbformat": 4,
 "nbformat_minor": 5
}
