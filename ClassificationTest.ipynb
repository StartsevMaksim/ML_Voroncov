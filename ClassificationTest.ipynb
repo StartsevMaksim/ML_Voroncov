{
 "cells": [
  {
   "cell_type": "code",
   "execution_count": 1,
   "id": "32864cbd-b575-475e-a906-d623344df6f7",
   "metadata": {},
   "outputs": [],
   "source": [
    "import functools\n",
    "import numpy as np\n",
    "import pandas as pd\n",
    "import matplotlib.pyplot as plt\n",
    "import seaborn as sns\n",
    "from collections import deque\n",
    "from ULogicalModels import UDecisionTreeClassifier\n",
    "from sklearn.ensemble import RandomForestClassifier\n",
    "from sklearn.metrics import classification_report, ConfusionMatrixDisplay, accuracy_score\n",
    "from sklearn.preprocessing import StandardScaler\n",
    "from sklearn.model_selection import train_test_split"
   ]
  },
  {
   "cell_type": "code",
   "execution_count": 2,
   "id": "3d37ecb3-ebc1-4b9f-b4dc-52fb695912a7",
   "metadata": {},
   "outputs": [],
   "source": [
    "class URandomForestClassifier:\n",
    "    def __init__(self,\n",
    "                 n_estimators=10,\n",
    "                 criterion='gini',\n",
    "                 max_depth=1,\n",
    "                 max_features='sqrt',\n",
    "                 subset_size=0.7):\n",
    "        self.n_estimators = n_estimators\n",
    "        self.criterion = criterion\n",
    "        self.max_depth = max_depth\n",
    "        self.max_features = max_features\n",
    "        self.subset_size = subset_size\n",
    "\n",
    "    def fit(self, X, y):\n",
    "        self.ensemble_ = []\n",
    "        self.X_train, self.y_train = np.array(X), np.array(y)\n",
    "        n, m = self.X_train.shape\n",
    "        while len(self.ensemble_) < self.n_estimators:\n",
    "            subset_indexes = np.random.choice(n, \n",
    "                                              size=int(abs(min(n*self.subset_size, n))), \n",
    "                                              replace=False)\n",
    "            feature_indexes = np.random.choice(m, \n",
    "                                               size=int((np.sqrt(m) if self.max_features=='sqrt' else self.max_features)), \n",
    "                                               replace=False)\n",
    "            sub_X_train = self.X_train[subset_indexes]\n",
    "            sub_X_train = sub_X_train[:,feature_indexes]\n",
    "            sub_y_train = self.y_train[subset_indexes]\n",
    "            cur_tree = UDecisionTreeClassifier(self.criterion, self.max_depth)\n",
    "            cur_tree.fit(sub_X_train, sub_y_train)\n",
    "            self.ensemble_.append((cur_tree, feature_indexes))\n",
    "\n",
    "    @staticmethod\n",
    "    def _passEnsemble(cur_tree, X, feature_indexes):\n",
    "        return cur_tree.predict(X[:,feature_indexes])\n",
    "    \n",
    "    def predict(self, X):\n",
    "        X = np.array(X)\n",
    "        trees_result = np.array([self._passEnsemble(cur_tree, X, feature_indexes)\n",
    "                                for cur_tree, feature_indexes in self.ensemble_])\n",
    "        object_result = []\n",
    "        for tree_res in trees_result.T:\n",
    "            freq = {}\n",
    "            for res in tree_res:\n",
    "                freq[res] = freq.setdefault(res, 0) + 1\n",
    "            object_result.append(max(freq.items(), key=(lambda x: x[1]))[0])\n",
    "        return np.array(object_result)"
   ]
  },
  {
   "cell_type": "code",
   "execution_count": null,
   "id": "6adde1d2-d4ea-4707-9106-2f99a55e847f",
   "metadata": {},
   "outputs": [],
   "source": []
  },
  {
   "cell_type": "code",
   "execution_count": null,
   "id": "3443dcce-8e56-4be2-a336-4e94be708240",
   "metadata": {},
   "outputs": [],
   "source": []
  },
  {
   "cell_type": "code",
   "execution_count": null,
   "id": "53a6ed3f-94ac-433b-9582-3c4821dd95af",
   "metadata": {},
   "outputs": [],
   "source": []
  },
  {
   "cell_type": "code",
   "execution_count": 3,
   "id": "513382fc-c121-4a7e-813b-13fd53984d25",
   "metadata": {},
   "outputs": [],
   "source": [
    "def getModelError(model, X_train, X_test, y_train, y_test):\n",
    "    model.fit(X_train, y_train)\n",
    "    y_predict = model.predict(X_test)\n",
    "    return classification_report(y_test, y_predict)\n",
    "    \n",
    "def compareModels(model, uModel, X, y, is_need_scale):\n",
    "    X_train, X_test, y_train, y_test = train_test_split(X, y, test_size=0.3, random_state=101)\n",
    "    if is_need_scale:\n",
    "        scaler = StandardScaler()\n",
    "        scaler.fit(X_train)\n",
    "        X_train = scaler.transform(X_train)\n",
    "        X_test = scaler.transform(X_test)\n",
    "    model_error = getModelError(model, X_train, X_test, y_train, y_test)\n",
    "    uModel_error = getModelError(uModel, X_train, X_test, y_train, y_test)\n",
    "    print('Ошибка на пакетной модели\\n', model_error)\n",
    "    print('Ошибка на реализованной модели\\n', uModel_error)"
   ]
  },
  {
   "cell_type": "code",
   "execution_count": 4,
   "id": "905fa891-75ad-4aba-b052-2ee59e3fbbbb",
   "metadata": {},
   "outputs": [],
   "source": [
    "#Вины\n",
    "data_1 = pd.read_csv('DATA/wine_fraud.csv')\n",
    "X = data_1.drop(['type','quality'], axis=1)\n",
    "y = data_1['type']"
   ]
  },
  {
   "cell_type": "code",
   "execution_count": 8,
   "id": "f426efd6-622b-4d06-b3f4-2e9b9e687aa1",
   "metadata": {},
   "outputs": [],
   "source": [
    "#Исследование слуха\n",
    "data_1 = pd.read_csv('DATA/hearing_test.csv')\n",
    "X = data_1.drop('test_result', axis=1)\n",
    "y = data_1['test_result']"
   ]
  },
  {
   "cell_type": "code",
   "execution_count": null,
   "id": "20430f89-3e4b-4960-a650-141722887dd9",
   "metadata": {},
   "outputs": [],
   "source": [
    "#Ирисы\n",
    "data_1 = pd.read_csv('DATA/iris.csv')\n",
    "X = data_1.drop('species', axis=1)\n",
    "y = data_1['species']"
   ]
  },
  {
   "cell_type": "code",
   "execution_count": 5,
   "id": "f5fb6a73-d250-4fe6-b44c-901b97393a8e",
   "metadata": {},
   "outputs": [],
   "source": [
    "model = RandomForestClassifier(10, max_depth=4)\n",
    "uModel = URandomForestClassifier(10, max_depth=4)"
   ]
  },
  {
   "cell_type": "code",
   "execution_count": 6,
   "id": "7db11be4-c49c-47a5-a1e3-34d5068b175f",
   "metadata": {},
   "outputs": [
    {
     "name": "stdout",
     "output_type": "stream",
     "text": [
      "Ошибка на пакетной модели\n",
      "               precision    recall  f1-score   support\n",
      "\n",
      "         red       1.00      0.95      0.97       499\n",
      "       white       0.98      1.00      0.99      1451\n",
      "\n",
      "    accuracy                           0.99      1950\n",
      "   macro avg       0.99      0.98      0.98      1950\n",
      "weighted avg       0.99      0.99      0.99      1950\n",
      "\n",
      "Ошибка на реализованной модели\n",
      "               precision    recall  f1-score   support\n",
      "\n",
      "         red       0.99      0.92      0.95       499\n",
      "       white       0.97      1.00      0.98      1451\n",
      "\n",
      "    accuracy                           0.98      1950\n",
      "   macro avg       0.98      0.96      0.97      1950\n",
      "weighted avg       0.98      0.98      0.98      1950\n",
      "\n"
     ]
    }
   ],
   "source": [
    "compareModels(model, uModel, X, y, False)"
   ]
  },
  {
   "cell_type": "code",
   "execution_count": null,
   "id": "fc03298f-ba6e-4909-ab26-a996d8c1fa81",
   "metadata": {},
   "outputs": [],
   "source": []
  }
 ],
 "metadata": {
  "kernelspec": {
   "display_name": "Python 3 (ipykernel)",
   "language": "python",
   "name": "python3"
  },
  "language_info": {
   "codemirror_mode": {
    "name": "ipython",
    "version": 3
   },
   "file_extension": ".py",
   "mimetype": "text/x-python",
   "name": "python",
   "nbconvert_exporter": "python",
   "pygments_lexer": "ipython3",
   "version": "3.12.0"
  }
 },
 "nbformat": 4,
 "nbformat_minor": 5
}
