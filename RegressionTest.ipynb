{
 "cells": [
  {
   "cell_type": "code",
   "execution_count": 28,
   "id": "d35e31d6-1a2b-45e3-a5bc-57f56cf2c2e7",
   "metadata": {},
   "outputs": [],
   "source": [
    "import numpy as np\n",
    "import pandas as pd\n",
    "from ULinearModels import UElasticNet\n",
    "from sklearn.linear_model import LinearRegression, ElasticNet\n",
    "from sklearn.metrics import mean_squared_error\n",
    "from sklearn.preprocessing import StandardScaler\n",
    "from sklearn.model_selection import train_test_split"
   ]
  },
  {
   "cell_type": "code",
   "execution_count": 29,
   "id": "5b2918f2-f79f-4b08-b680-552866872d07",
   "metadata": {},
   "outputs": [],
   "source": [
    "def getModelError(model, X_train, X_test, y_train, y_test):\n",
    "    model.fit(X_train, y_train)\n",
    "    y_predict = model.predict(X_test)\n",
    "    return np.sqrt(mean_squared_error(y_test, y_predict))\n",
    "    \n",
    "def compareModels(model, uModel, X, y, scaled=True):\n",
    "    model_error = getModelError(model, X_train, X_test, y_train, y_test)\n",
    "    uModel_error = getModelError(uModel, X_train, X_test, y_train, y_test)\n",
    "    print('Ошибка на пакетной модели =', model_error)\n",
    "    print('Ошибка на реализованной модели =', uModel_error)"
   ]
  },
  {
   "cell_type": "code",
   "execution_count": 30,
   "id": "ab9e476e-f958-471f-8fcf-2d838aa7e1ae",
   "metadata": {},
   "outputs": [],
   "source": [
    "data = pd.read_csv('DATA/Advertising.csv')"
   ]
  },
  {
   "cell_type": "code",
   "execution_count": 31,
   "id": "e22a0918-7fd0-4175-9825-13b6cc6e9a9d",
   "metadata": {},
   "outputs": [],
   "source": [
    "X = data.drop('sales', axis=1)\n",
    "y = data['sales']"
   ]
  },
  {
   "cell_type": "code",
   "execution_count": 32,
   "id": "711108da-9d3f-4448-86be-6f0f9896a0ca",
   "metadata": {},
   "outputs": [],
   "source": [
    "X_train, X_test, y_train, y_test = train_test_split(X, y, test_size=0.3, random_state=101)"
   ]
  },
  {
   "cell_type": "code",
   "execution_count": 33,
   "id": "89313128-52e0-48b8-9da1-15cec0281abb",
   "metadata": {},
   "outputs": [],
   "source": [
    "scaler = StandardScaler()\n",
    "scaler.fit(X_train)\n",
    "X_train = scaler.transform(X_train)\n",
    "X_test = scaler.transform(X_test)"
   ]
  },
  {
   "cell_type": "code",
   "execution_count": 34,
   "id": "1fec4c83-4ab8-4cc8-ac11-ea61a3aee75a",
   "metadata": {},
   "outputs": [],
   "source": [
    "model = LinearRegression()\n",
    "uModel = UElasticNet(0, 0.8)"
   ]
  },
  {
   "cell_type": "code",
   "execution_count": 35,
   "id": "6fc537e1-e2e6-4537-83b8-e896bce61a6f",
   "metadata": {},
   "outputs": [
    {
     "name": "stdout",
     "output_type": "stream",
     "text": [
      "Ошибка на пакетной модели = 1.5161519375993882\n",
      "Ошибка на реализованной модели = 1.5163799913421052\n"
     ]
    }
   ],
   "source": [
    "compareModels(model, uModel, X, y)"
   ]
  },
  {
   "cell_type": "code",
   "execution_count": 36,
   "id": "0f945d9c-a4d0-4821-9d96-04be1f92e50d",
   "metadata": {},
   "outputs": [
    {
     "data": {
      "text/plain": [
       "(14.311428571428571, array([ 3.76599021,  2.76548662, -0.00690986]))"
      ]
     },
     "execution_count": 36,
     "metadata": {},
     "output_type": "execute_result"
    }
   ],
   "source": [
    "model.intercept_, model.coef_"
   ]
  },
  {
   "cell_type": "code",
   "execution_count": 37,
   "id": "11cf63ce-b041-44a9-936a-6f9e918ac06d",
   "metadata": {},
   "outputs": [
    {
     "data": {
      "text/plain": [
       "array([ 1.43114286e+01,  3.76548507e+00,  2.76259851e+00, -3.86984516e-03])"
      ]
     },
     "execution_count": 37,
     "metadata": {},
     "output_type": "execute_result"
    }
   ],
   "source": [
    "uModel.weights_"
   ]
  },
  {
   "cell_type": "code",
   "execution_count": null,
   "id": "60e11230-9a9b-42e2-9d34-d251e20648e1",
   "metadata": {},
   "outputs": [],
   "source": []
  }
 ],
 "metadata": {
  "kernelspec": {
   "display_name": "Python 3 (ipykernel)",
   "language": "python",
   "name": "python3"
  },
  "language_info": {
   "codemirror_mode": {
    "name": "ipython",
    "version": 3
   },
   "file_extension": ".py",
   "mimetype": "text/x-python",
   "name": "python",
   "nbconvert_exporter": "python",
   "pygments_lexer": "ipython3",
   "version": "3.12.0"
  }
 },
 "nbformat": 4,
 "nbformat_minor": 5
}
