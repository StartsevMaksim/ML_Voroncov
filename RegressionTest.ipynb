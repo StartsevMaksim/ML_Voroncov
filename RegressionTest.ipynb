{
 "cells": [
  {
   "cell_type": "code",
   "execution_count": 6,
   "id": "d35e31d6-1a2b-45e3-a5bc-57f56cf2c2e7",
   "metadata": {},
   "outputs": [],
   "source": [
    "import numpy as np\n",
    "import pandas as pd\n",
    "from ULogicalModels import UGradBoost\n",
    "from sklearn.metrics import mean_squared_error\n",
    "from sklearn.ensemble import GradientBoostingRegressor\n",
    "from sklearn.preprocessing import StandardScaler\n",
    "from sklearn.model_selection import train_test_split"
   ]
  },
  {
   "cell_type": "code",
   "execution_count": 12,
   "id": "4c3176fb-c0ed-4caa-acd8-824b5cf54453",
   "metadata": {},
   "outputs": [],
   "source": []
  },
  {
   "cell_type": "code",
   "execution_count": 2,
   "id": "5b2918f2-f79f-4b08-b680-552866872d07",
   "metadata": {},
   "outputs": [],
   "source": [
    "def getModelError(model, X_train, X_test, y_train, y_test):\n",
    "    model.fit(X_train, y_train)\n",
    "    y_predict = model.predict(X_test)\n",
    "    return np.sqrt(mean_squared_error(y_test, y_predict))\n",
    "    \n",
    "def compareModels(model, uModel, X, y, is_need_scale):\n",
    "    X_train, X_test, y_train, y_test = train_test_split(X, y, test_size=0.3, random_state=101)\n",
    "    if is_need_scale:\n",
    "        scaler = StandardScaler()\n",
    "        scaler.fit(X_train)\n",
    "        X_train = scaler.transform(X_train)\n",
    "        X_test = scaler.transform(X_test)\n",
    "    model_error = getModelError(model, X_train, X_test, y_train, y_test)\n",
    "    uModel_error = getModelError(uModel, X_train, X_test, y_train, y_test)\n",
    "    print('Ошибка на пакетной модели\\n', model_error)\n",
    "    print('Ошибка на реализованной модели\\n', uModel_error)"
   ]
  },
  {
   "cell_type": "code",
   "execution_count": 15,
   "id": "ab9e476e-f958-471f-8fcf-2d838aa7e1ae",
   "metadata": {},
   "outputs": [],
   "source": [
    "#Реклама\n",
    "data = pd.read_csv('DATA/Advertising.csv')\n",
    "X = data.drop('sales', axis=1)\n",
    "y = data['sales']"
   ]
  },
  {
   "cell_type": "code",
   "execution_count": 3,
   "id": "e1af571f-d69f-4767-98c3-1a2d40835dea",
   "metadata": {},
   "outputs": [],
   "source": [
    "#Аукцион\n",
    "data = pd.read_csv('DATA/AMES_Final_DF.csv')\n",
    "X = data.drop('SalePrice', axis=1)\n",
    "y = data['SalePrice']"
   ]
  },
  {
   "cell_type": "code",
   "execution_count": 7,
   "id": "1fec4c83-4ab8-4cc8-ac11-ea61a3aee75a",
   "metadata": {},
   "outputs": [],
   "source": [
    "model = GradientBoostingRegressor(n_estimators=10)\n",
    "uModel = UGradBoost()"
   ]
  },
  {
   "cell_type": "code",
   "execution_count": 8,
   "id": "6fc537e1-e2e6-4537-83b8-e896bce61a6f",
   "metadata": {},
   "outputs": [
    {
     "name": "stdout",
     "output_type": "stream",
     "text": [
      "Ошибка на пакетной модели\n",
      " 43240.69020070263\n",
      "Ошибка на реализованной модели\n",
      " 39273.65517875638\n"
     ]
    }
   ],
   "source": [
    "compareModels(model, uModel, X, y, False)"
   ]
  },
  {
   "cell_type": "code",
   "execution_count": null,
   "id": "1f522e6e-7936-4b93-9c76-fc77a99b7396",
   "metadata": {},
   "outputs": [],
   "source": []
  }
 ],
 "metadata": {
  "kernelspec": {
   "display_name": "Python 3 (ipykernel)",
   "language": "python",
   "name": "python3"
  },
  "language_info": {
   "codemirror_mode": {
    "name": "ipython",
    "version": 3
   },
   "file_extension": ".py",
   "mimetype": "text/x-python",
   "name": "python",
   "nbconvert_exporter": "python",
   "pygments_lexer": "ipython3",
   "version": "3.12.0"
  }
 },
 "nbformat": 4,
 "nbformat_minor": 5
}
